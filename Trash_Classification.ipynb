{
 "cells": [
  {
   "cell_type": "code",
   "execution_count": 9,
   "metadata": {},
   "outputs": [],
   "source": [
    "import pandas as pd"
   ]
  },
  {
   "cell_type": "code",
   "execution_count": 11,
   "metadata": {},
   "outputs": [],
   "source": [
    "df1 = pd.read_csv(\"/home/swethakavuri/exampleCsv.csv\")"
   ]
  },
  {
   "cell_type": "code",
   "execution_count": 12,
   "metadata": {},
   "outputs": [
    {
     "name": "stdout",
     "output_type": "stream",
     "text": [
      "       Label   Probability\n",
      "0      trash      0.017723\n",
      "1    plastic      0.039898\n",
      "2      paper      0.257507\n",
      "3      metal      0.056268\n",
      "4  cardboard      0.613913\n"
     ]
    }
   ],
   "source": [
    "print(df1)"
   ]
  },
  {
   "cell_type": "code",
   "execution_count": 18,
   "metadata": {},
   "outputs": [
    {
     "name": "stdout",
     "output_type": "stream",
     "text": [
      "       Label   Probability\n",
      "4  cardboard      0.613913\n"
     ]
    }
   ],
   "source": [
    "df1 = df1.sort_values(by=' Probability', ascending=False).head(1)\n",
    "print (df1)"
   ]
  },
  {
   "cell_type": "code",
   "execution_count": 22,
   "metadata": {},
   "outputs": [
    {
     "name": "stdout",
     "output_type": "stream",
     "text": [
      "cardboard\n"
     ]
    }
   ],
   "source": [
    "val = df1['Label'].values[0]\n",
    "print (val)"
   ]
  },
  {
   "cell_type": "code",
   "execution_count": 16,
   "metadata": {},
   "outputs": [
    {
     "name": "stdout",
     "output_type": "stream",
     "text": [
      "Recyclable!\n"
     ]
    }
   ],
   "source": [
    "if val in ('plastic','metal','glass','cardboard'):\n",
    "    print(\"Recyclable!\")\n",
    "else:\n",
    "    print(\"Trash!\")"
   ]
  },
  {
   "cell_type": "code",
   "execution_count": 43,
   "metadata": {},
   "outputs": [
    {
     "name": "stdout",
     "output_type": "stream",
     "text": [
      "   plastic  trash  cardboard  paper  metal  Total\n",
      "0        0      0          0      0      0      0\n"
     ]
    }
   ],
   "source": [
    "df2 = pd.read_csv(\"/home/swethakavuri/stats.csv\")\n",
    "print (df2)"
   ]
  },
  {
   "cell_type": "code",
   "execution_count": 44,
   "metadata": {},
   "outputs": [],
   "source": [
    "df2['Total'].values[0] = df2['Total'].values[0]+1"
   ]
  },
  {
   "cell_type": "code",
   "execution_count": 45,
   "metadata": {},
   "outputs": [],
   "source": [
    "df2[val].values[0] = (df2[val].values[0]+1)*100/(df2['Total'].values[0])"
   ]
  },
  {
   "cell_type": "code",
   "execution_count": 46,
   "metadata": {},
   "outputs": [
    {
     "name": "stdout",
     "output_type": "stream",
     "text": [
      "   plastic  trash  cardboard  paper  metal  Total\n",
      "0        0      0        100      0      0      1\n"
     ]
    }
   ],
   "source": [
    "print(df2)"
   ]
  },
  {
   "cell_type": "code",
   "execution_count": null,
   "metadata": {},
   "outputs": [],
   "source": []
  },
  {
   "cell_type": "code",
   "execution_count": null,
   "metadata": {},
   "outputs": [],
   "source": []
  }
 ],
 "metadata": {
  "kernelspec": {
   "display_name": "Python 3",
   "language": "python",
   "name": "python3"
  },
  "language_info": {
   "codemirror_mode": {
    "name": "ipython",
    "version": 3
   },
   "file_extension": ".py",
   "mimetype": "text/x-python",
   "name": "python",
   "nbconvert_exporter": "python",
   "pygments_lexer": "ipython3",
   "version": "3.5.2"
  }
 },
 "nbformat": 4,
 "nbformat_minor": 2
}
